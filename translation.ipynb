{
 "cells": [
  {
   "cell_type": "code",
   "execution_count": 2,
   "metadata": {},
   "outputs": [
    {
     "name": "stdout",
     "output_type": "stream",
     "text": [
      "    Serial                                            Content\n",
      "0       51  10. ಪ್ರಥಮ ವರ್ತಮಾನ ವರದಿಯ ವಿವರಗಳು  11,  ಪಿರ್ಯಾದು...\n",
      "1       52  10. ಪ್ರಥಮ ವರ್ತಮಾನ ವರದಿಯ ವಿವರಗಳು  11.  ಪಿರ್ಯಾದು...\n",
      "2       53  10. ಪ್ರಥಮ ವರ್ತಮಾನ ವರದಿಯ ವಿವರಗಳು  11,  ಪಿರ್ಯಾದು...\n",
      "3       54  10. ಪ್ರಥಮ ವರ್ತಮಾನ ವರದಿಯ ವಿವರಗಳು  11.  ಪಿರ್ಯಾದು...\n",
      "4       55  10. ಪ್ರಥಮ ವರ್ತಮಾನ ವರದಿಯ ವಿವರಗಳು ರ್ಯಾದುದಾರಿಗೆ ದ...\n",
      "..     ...                                                ...\n",
      "432    486  10. ಪ್ರಥಮ ವರ್ತಮಾನ ವರದಿಯ ವಿವರಗಳು ಈ ವೇಳೆಗೆ ಪಿರ್ಯ...\n",
      "433    487  10. ಪ್ರಥಮ ವರ್ತಮಾನ ವರದಿಯ ವಿವರಗಳು ಈ ವೇಳೆಗೆ ಪಿರ್ಯ...\n",
      "434    488  10. ಪ್ರಥಮ ವರ್ತಮಾನ ವರದಿಯ ವಿವರಗಳು ಈ ವೇಳೆಗೆ ಪಿರ್ಯ...\n",
      "435    489  10. ಪ್ರಥಮ ವರ್ತಮಾನ ವರದಿಯ ವಿವರಗಳು ಈ ವೇಳೆಗೆ ಪಿರ್ಯ...\n",
      "436    490  10. ಪ್ರಥಮ ವರ್ತಮಾನ ವರದಿಯ ವಿವರಗಳು ಈ ವೇಳೆಗೆ ಪಿರ್ಯ...\n",
      "\n",
      "[437 rows x 2 columns]\n",
      "437\n",
      "Index(['Serial', 'Content', 'English'], dtype='object')\n"
     ]
    }
   ],
   "source": [
    "from google_trans_new import google_translator\n",
    "import pandas as pd\n",
    "\n",
    "headers = ['English']\n",
    "data = pd.read_csv('./Dataset/FIR-51-490.csv')\n",
    "translator = google_translator()\n",
    "df1 = pd.read_csv('./Dataset/FIR-51-490.csv')\n",
    "df = pd.DataFrame(index=range(0,len(df1)), columns=headers)\n",
    "print(df1)\n",
    "print(len(data))\n",
    "\n",
    "def translate_row(row):\n",
    "    a = translator.translate(row[1], lang_tgt='en')\n",
    "    index = a.find(\"Report\")\n",
    "    index2 = a.rfind(\"11\")\n",
    "    return a[index+6:index2]\n",
    "\n",
    "for i, row in enumerate(data.values):\n",
    "    df.loc[i] = translate_row(row)\n",
    "frames = [df1, df]\n",
    "result = pd.concat(frames, axis = 1)\n",
    "print(result.columns)\n",
    "result.to_csv(r'./Dataset/FIR_translated_51.csv',index=False, header =True )"
   ]
  }
 ],
 "metadata": {
  "kernelspec": {
   "display_name": "Python 3",
   "language": "python",
   "name": "python3"
  },
  "language_info": {
   "codemirror_mode": {
    "name": "ipython",
    "version": 3
   },
   "file_extension": ".py",
   "mimetype": "text/x-python",
   "name": "python",
   "nbconvert_exporter": "python",
   "pygments_lexer": "ipython3",
   "version": "3.7.3"
  }
 },
 "nbformat": 4,
 "nbformat_minor": 4
}
